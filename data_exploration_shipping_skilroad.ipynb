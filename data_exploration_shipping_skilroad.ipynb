{
 "cells": [
  {
   "cell_type": "code",
   "execution_count": 1,
   "metadata": {},
   "outputs": [],
   "source": [
    "import pandas as pd\n",
    "import numpy as np\n",
    "import seaborn as sns\n",
    "from matplotlib import pyplot as plt"
   ]
  },
  {
   "cell_type": "markdown",
   "metadata": {},
   "source": [
    "Informacion de las columnas\n",
    "- item_id\n",
    "- description: Descripcion del shipping (por ejemplo, free shipping, letter, priority mail, etc)\n",
    "- est_delivery: Tiempo estimado de entrega (generalmente en días)\n",
    "- price: Precio de la opción de envio [BTC]\n",
    "- timestamp: Fecha y hora en la que se scrapeo"
   ]
  },
  {
   "cell_type": "code",
   "execution_count": 2,
   "metadata": {},
   "outputs": [
    {
     "data": {
      "text/html": [
       "<div>\n",
       "<style scoped>\n",
       "    .dataframe tbody tr th:only-of-type {\n",
       "        vertical-align: middle;\n",
       "    }\n",
       "\n",
       "    .dataframe tbody tr th {\n",
       "        vertical-align: top;\n",
       "    }\n",
       "\n",
       "    .dataframe thead th {\n",
       "        text-align: right;\n",
       "    }\n",
       "</style>\n",
       "<table border=\"1\" class=\"dataframe\">\n",
       "  <thead>\n",
       "    <tr style=\"text-align: right;\">\n",
       "      <th></th>\n",
       "      <th>item_id</th>\n",
       "      <th>description</th>\n",
       "      <th>est_delivery</th>\n",
       "      <th>price</th>\n",
       "      <th>timestamp</th>\n",
       "    </tr>\n",
       "  </thead>\n",
       "  <tbody>\n",
       "    <tr>\n",
       "      <th>0</th>\n",
       "      <td>jj-luna-privacy-ebooks</td>\n",
       "      <td>ebook link</td>\n",
       "      <td>1 day</td>\n",
       "      <td>0.000000</td>\n",
       "      <td>2014-02-23T05:39:22</td>\n",
       "    </tr>\n",
       "    <tr>\n",
       "      <th>1</th>\n",
       "      <td>the-morality-of-capitalism</td>\n",
       "      <td>letter</td>\n",
       "      <td>4 days</td>\n",
       "      <td>0.001722</td>\n",
       "      <td>2014-02-23T05:39:29</td>\n",
       "    </tr>\n",
       "    <tr>\n",
       "      <th>2</th>\n",
       "      <td>survive</td>\n",
       "      <td>small book (domestic)</td>\n",
       "      <td>4 days</td>\n",
       "      <td>0.017217</td>\n",
       "      <td>2014-02-23T05:39:33</td>\n",
       "    </tr>\n",
       "    <tr>\n",
       "      <th>3</th>\n",
       "      <td>a-non-religious-new-testament</td>\n",
       "      <td>media mail parcel (domestic)</td>\n",
       "      <td>4 days</td>\n",
       "      <td>0.006870</td>\n",
       "      <td>2014-02-23T05:39:37</td>\n",
       "    </tr>\n",
       "    <tr>\n",
       "      <th>4</th>\n",
       "      <td>mindless-slogans-101-cheap-substitutes-for-act...</td>\n",
       "      <td>ebook link</td>\n",
       "      <td>1 day</td>\n",
       "      <td>0.000000</td>\n",
       "      <td>2014-02-23T05:39:41</td>\n",
       "    </tr>\n",
       "  </tbody>\n",
       "</table>\n",
       "</div>"
      ],
      "text/plain": [
       "                                             item_id  \\\n",
       "0                             jj-luna-privacy-ebooks   \n",
       "1                         the-morality-of-capitalism   \n",
       "2                                            survive   \n",
       "3                      a-non-religious-new-testament   \n",
       "4  mindless-slogans-101-cheap-substitutes-for-act...   \n",
       "\n",
       "                    description est_delivery     price            timestamp  \n",
       "0                    ebook link        1 day  0.000000  2014-02-23T05:39:22  \n",
       "1                        letter       4 days  0.001722  2014-02-23T05:39:29  \n",
       "2         small book (domestic)       4 days  0.017217  2014-02-23T05:39:33  \n",
       "3  media mail parcel (domestic)       4 days  0.006870  2014-02-23T05:39:37  \n",
       "4                    ebook link        1 day  0.000000  2014-02-23T05:39:41  "
      ]
     },
     "execution_count": 2,
     "metadata": {},
     "output_type": "execute_result"
    }
   ],
   "source": [
    "shipping_skilroad = pd.read_csv('csv/silkroad_shippings.csv')\n",
    "shipping_skilroad.head()"
   ]
  },
  {
   "cell_type": "code",
   "execution_count": 3,
   "metadata": {},
   "outputs": [
    {
     "name": "stdout",
     "output_type": "stream",
     "text": [
      "<class 'pandas.core.frame.DataFrame'>\n",
      "RangeIndex: 560458 entries, 0 to 560457\n",
      "Data columns (total 5 columns):\n",
      " #   Column        Non-Null Count   Dtype  \n",
      "---  ------        --------------   -----  \n",
      " 0   item_id       560458 non-null  object \n",
      " 1   description   559657 non-null  object \n",
      " 2   est_delivery  560458 non-null  object \n",
      " 3   price         560423 non-null  float64\n",
      " 4   timestamp     560458 non-null  object \n",
      "dtypes: float64(1), object(4)\n",
      "memory usage: 21.4+ MB\n"
     ]
    }
   ],
   "source": [
    "shipping_skilroad.info()"
   ]
  },
  {
   "cell_type": "code",
   "execution_count": 15,
   "metadata": {},
   "outputs": [
    {
     "name": "stdout",
     "output_type": "stream",
     "text": [
      "column: item_id\n",
      "\n",
      "False    560458\n",
      "Name: item_id, dtype: int64\n",
      "column: description\n",
      "\n",
      "False    559657\n",
      "True        801\n",
      "Name: description, dtype: int64\n",
      "column: est_delivery\n",
      "\n",
      "False    560458\n",
      "Name: est_delivery, dtype: int64\n",
      "column: price\n",
      "\n",
      "False    560423\n",
      "True         35\n",
      "Name: price, dtype: int64\n",
      "column: timestamp\n",
      "\n",
      "False    560458\n",
      "Name: timestamp, dtype: int64\n"
     ]
    }
   ],
   "source": [
    "# podemos ver que hay algunos datos con Nulls para algunas columnas como descripcion\n",
    "for c in shipping_skilroad.columns:\n",
    "    print(\"column: \"+c + \"\\n\")\n",
    "    print(shipping_skilroad[c].isnull().value_counts())"
   ]
  },
  {
   "cell_type": "code",
   "execution_count": 16,
   "metadata": {},
   "outputs": [
    {
     "data": {
      "text/html": [
       "<div>\n",
       "<style scoped>\n",
       "    .dataframe tbody tr th:only-of-type {\n",
       "        vertical-align: middle;\n",
       "    }\n",
       "\n",
       "    .dataframe tbody tr th {\n",
       "        vertical-align: top;\n",
       "    }\n",
       "\n",
       "    .dataframe thead th {\n",
       "        text-align: right;\n",
       "    }\n",
       "</style>\n",
       "<table border=\"1\" class=\"dataframe\">\n",
       "  <thead>\n",
       "    <tr style=\"text-align: right;\">\n",
       "      <th></th>\n",
       "      <th>item_id</th>\n",
       "      <th>description</th>\n",
       "      <th>delivery_days</th>\n",
       "      <th>price</th>\n",
       "      <th>timestamp</th>\n",
       "    </tr>\n",
       "  </thead>\n",
       "  <tbody>\n",
       "    <tr>\n",
       "      <th>0</th>\n",
       "      <td>jj-luna-privacy-ebooks</td>\n",
       "      <td>ebook link</td>\n",
       "      <td>1 day</td>\n",
       "      <td>0.000000</td>\n",
       "      <td>2014-02-23T05:39:22</td>\n",
       "    </tr>\n",
       "    <tr>\n",
       "      <th>1</th>\n",
       "      <td>the-morality-of-capitalism</td>\n",
       "      <td>letter</td>\n",
       "      <td>4 days</td>\n",
       "      <td>0.001722</td>\n",
       "      <td>2014-02-23T05:39:29</td>\n",
       "    </tr>\n",
       "    <tr>\n",
       "      <th>2</th>\n",
       "      <td>survive</td>\n",
       "      <td>small book (domestic)</td>\n",
       "      <td>4 days</td>\n",
       "      <td>0.017217</td>\n",
       "      <td>2014-02-23T05:39:33</td>\n",
       "    </tr>\n",
       "    <tr>\n",
       "      <th>3</th>\n",
       "      <td>a-non-religious-new-testament</td>\n",
       "      <td>media mail parcel (domestic)</td>\n",
       "      <td>4 days</td>\n",
       "      <td>0.006870</td>\n",
       "      <td>2014-02-23T05:39:37</td>\n",
       "    </tr>\n",
       "    <tr>\n",
       "      <th>4</th>\n",
       "      <td>mindless-slogans-101-cheap-substitutes-for-act...</td>\n",
       "      <td>ebook link</td>\n",
       "      <td>1 day</td>\n",
       "      <td>0.000000</td>\n",
       "      <td>2014-02-23T05:39:41</td>\n",
       "    </tr>\n",
       "  </tbody>\n",
       "</table>\n",
       "</div>"
      ],
      "text/plain": [
       "                                             item_id  \\\n",
       "0                             jj-luna-privacy-ebooks   \n",
       "1                         the-morality-of-capitalism   \n",
       "2                                            survive   \n",
       "3                      a-non-religious-new-testament   \n",
       "4  mindless-slogans-101-cheap-substitutes-for-act...   \n",
       "\n",
       "                    description delivery_days     price            timestamp  \n",
       "0                    ebook link         1 day  0.000000  2014-02-23T05:39:22  \n",
       "1                        letter        4 days  0.001722  2014-02-23T05:39:29  \n",
       "2         small book (domestic)        4 days  0.017217  2014-02-23T05:39:33  \n",
       "3  media mail parcel (domestic)        4 days  0.006870  2014-02-23T05:39:37  \n",
       "4                    ebook link         1 day  0.000000  2014-02-23T05:39:41  "
      ]
     },
     "execution_count": 16,
     "metadata": {},
     "output_type": "execute_result"
    }
   ],
   "source": [
    "shipping_skilroad.rename(columns={'est_delivery':'delivery_days'},inplace=True)\n",
    "shipping_skilroad.head()"
   ]
  },
  {
   "cell_type": "code",
   "execution_count": 17,
   "metadata": {},
   "outputs": [],
   "source": [
    "# Para los dias, y el timestamp, es conveniente trabajar con numericos\n",
    "shipping_skilroad['timestamp'] = pd.to_datetime(shipping_skilroad['timestamp'])"
   ]
  },
  {
   "cell_type": "code",
   "execution_count": 18,
   "metadata": {},
   "outputs": [
    {
     "data": {
      "text/html": [
       "<div>\n",
       "<style scoped>\n",
       "    .dataframe tbody tr th:only-of-type {\n",
       "        vertical-align: middle;\n",
       "    }\n",
       "\n",
       "    .dataframe tbody tr th {\n",
       "        vertical-align: top;\n",
       "    }\n",
       "\n",
       "    .dataframe thead th {\n",
       "        text-align: right;\n",
       "    }\n",
       "</style>\n",
       "<table border=\"1\" class=\"dataframe\">\n",
       "  <thead>\n",
       "    <tr style=\"text-align: right;\">\n",
       "      <th></th>\n",
       "      <th>item_id</th>\n",
       "      <th>description</th>\n",
       "      <th>delivery_days</th>\n",
       "      <th>price</th>\n",
       "      <th>timestamp</th>\n",
       "    </tr>\n",
       "  </thead>\n",
       "  <tbody>\n",
       "    <tr>\n",
       "      <th>0</th>\n",
       "      <td>jj-luna-privacy-ebooks</td>\n",
       "      <td>ebook link</td>\n",
       "      <td>1 day</td>\n",
       "      <td>0.000000</td>\n",
       "      <td>2014-02-23 05:39:22</td>\n",
       "    </tr>\n",
       "    <tr>\n",
       "      <th>1</th>\n",
       "      <td>the-morality-of-capitalism</td>\n",
       "      <td>letter</td>\n",
       "      <td>4 days</td>\n",
       "      <td>0.001722</td>\n",
       "      <td>2014-02-23 05:39:29</td>\n",
       "    </tr>\n",
       "    <tr>\n",
       "      <th>2</th>\n",
       "      <td>survive</td>\n",
       "      <td>small book (domestic)</td>\n",
       "      <td>4 days</td>\n",
       "      <td>0.017217</td>\n",
       "      <td>2014-02-23 05:39:33</td>\n",
       "    </tr>\n",
       "    <tr>\n",
       "      <th>3</th>\n",
       "      <td>a-non-religious-new-testament</td>\n",
       "      <td>media mail parcel (domestic)</td>\n",
       "      <td>4 days</td>\n",
       "      <td>0.006870</td>\n",
       "      <td>2014-02-23 05:39:37</td>\n",
       "    </tr>\n",
       "    <tr>\n",
       "      <th>4</th>\n",
       "      <td>mindless-slogans-101-cheap-substitutes-for-act...</td>\n",
       "      <td>ebook link</td>\n",
       "      <td>1 day</td>\n",
       "      <td>0.000000</td>\n",
       "      <td>2014-02-23 05:39:41</td>\n",
       "    </tr>\n",
       "  </tbody>\n",
       "</table>\n",
       "</div>"
      ],
      "text/plain": [
       "                                             item_id  \\\n",
       "0                             jj-luna-privacy-ebooks   \n",
       "1                         the-morality-of-capitalism   \n",
       "2                                            survive   \n",
       "3                      a-non-religious-new-testament   \n",
       "4  mindless-slogans-101-cheap-substitutes-for-act...   \n",
       "\n",
       "                    description delivery_days     price           timestamp  \n",
       "0                    ebook link         1 day  0.000000 2014-02-23 05:39:22  \n",
       "1                        letter        4 days  0.001722 2014-02-23 05:39:29  \n",
       "2         small book (domestic)        4 days  0.017217 2014-02-23 05:39:33  \n",
       "3  media mail parcel (domestic)        4 days  0.006870 2014-02-23 05:39:37  \n",
       "4                    ebook link         1 day  0.000000 2014-02-23 05:39:41  "
      ]
     },
     "execution_count": 18,
     "metadata": {},
     "output_type": "execute_result"
    }
   ],
   "source": [
    "shipping_skilroad.head()"
   ]
  },
  {
   "cell_type": "code",
   "execution_count": 23,
   "metadata": {},
   "outputs": [],
   "source": [
    "def make_numeric(x):\n",
    "    num = \"\"\n",
    "    for letter in x:\n",
    "        if letter.isnumeric():\n",
    "            num +=letter\n",
    "    return num"
   ]
  },
  {
   "cell_type": "code",
   "execution_count": 25,
   "metadata": {},
   "outputs": [
    {
     "data": {
      "text/plain": [
       "0         1\n",
       "1         4\n",
       "2         4\n",
       "3         4\n",
       "4         1\n",
       "         ..\n",
       "560453    3\n",
       "560454    3\n",
       "560455    1\n",
       "560456    3\n",
       "560457    7\n",
       "Name: delivery_days, Length: 560458, dtype: object"
      ]
     },
     "execution_count": 25,
     "metadata": {},
     "output_type": "execute_result"
    }
   ],
   "source": [
    "shipping_skilroad['delivery_days'] = shipping_skilroad['delivery_days'].map(make_numeric)\n",
    "shipping_skilroad['delivery_days']"
   ]
  },
  {
   "cell_type": "code",
   "execution_count": 32,
   "metadata": {},
   "outputs": [],
   "source": [
    "shipping_skilroad.fillna(0,inplace=True)\n",
    "shipping_skilroad['delivery_days'] = shipping_skilroad['delivery_days'].astype(int)"
   ]
  },
  {
   "cell_type": "code",
   "execution_count": 33,
   "metadata": {},
   "outputs": [
    {
     "data": {
      "text/html": [
       "<div>\n",
       "<style scoped>\n",
       "    .dataframe tbody tr th:only-of-type {\n",
       "        vertical-align: middle;\n",
       "    }\n",
       "\n",
       "    .dataframe tbody tr th {\n",
       "        vertical-align: top;\n",
       "    }\n",
       "\n",
       "    .dataframe thead th {\n",
       "        text-align: right;\n",
       "    }\n",
       "</style>\n",
       "<table border=\"1\" class=\"dataframe\">\n",
       "  <thead>\n",
       "    <tr style=\"text-align: right;\">\n",
       "      <th></th>\n",
       "      <th>item_id</th>\n",
       "      <th>description</th>\n",
       "      <th>delivery_days</th>\n",
       "      <th>price</th>\n",
       "      <th>timestamp</th>\n",
       "    </tr>\n",
       "  </thead>\n",
       "  <tbody>\n",
       "    <tr>\n",
       "      <th>0</th>\n",
       "      <td>jj-luna-privacy-ebooks</td>\n",
       "      <td>ebook link</td>\n",
       "      <td>1</td>\n",
       "      <td>0.000000</td>\n",
       "      <td>2014-02-23 05:39:22</td>\n",
       "    </tr>\n",
       "    <tr>\n",
       "      <th>1</th>\n",
       "      <td>the-morality-of-capitalism</td>\n",
       "      <td>letter</td>\n",
       "      <td>4</td>\n",
       "      <td>0.001722</td>\n",
       "      <td>2014-02-23 05:39:29</td>\n",
       "    </tr>\n",
       "    <tr>\n",
       "      <th>2</th>\n",
       "      <td>survive</td>\n",
       "      <td>small book (domestic)</td>\n",
       "      <td>4</td>\n",
       "      <td>0.017217</td>\n",
       "      <td>2014-02-23 05:39:33</td>\n",
       "    </tr>\n",
       "    <tr>\n",
       "      <th>3</th>\n",
       "      <td>a-non-religious-new-testament</td>\n",
       "      <td>media mail parcel (domestic)</td>\n",
       "      <td>4</td>\n",
       "      <td>0.006870</td>\n",
       "      <td>2014-02-23 05:39:37</td>\n",
       "    </tr>\n",
       "    <tr>\n",
       "      <th>4</th>\n",
       "      <td>mindless-slogans-101-cheap-substitutes-for-act...</td>\n",
       "      <td>ebook link</td>\n",
       "      <td>1</td>\n",
       "      <td>0.000000</td>\n",
       "      <td>2014-02-23 05:39:41</td>\n",
       "    </tr>\n",
       "  </tbody>\n",
       "</table>\n",
       "</div>"
      ],
      "text/plain": [
       "                                             item_id  \\\n",
       "0                             jj-luna-privacy-ebooks   \n",
       "1                         the-morality-of-capitalism   \n",
       "2                                            survive   \n",
       "3                      a-non-religious-new-testament   \n",
       "4  mindless-slogans-101-cheap-substitutes-for-act...   \n",
       "\n",
       "                    description  delivery_days     price           timestamp  \n",
       "0                    ebook link              1  0.000000 2014-02-23 05:39:22  \n",
       "1                        letter              4  0.001722 2014-02-23 05:39:29  \n",
       "2         small book (domestic)              4  0.017217 2014-02-23 05:39:33  \n",
       "3  media mail parcel (domestic)              4  0.006870 2014-02-23 05:39:37  \n",
       "4                    ebook link              1  0.000000 2014-02-23 05:39:41  "
      ]
     },
     "execution_count": 33,
     "metadata": {},
     "output_type": "execute_result"
    }
   ],
   "source": [
    "shipping_skilroad.head()"
   ]
  },
  {
   "cell_type": "code",
   "execution_count": 35,
   "metadata": {},
   "outputs": [
    {
     "name": "stdout",
     "output_type": "stream",
     "text": [
      "<class 'pandas.core.frame.DataFrame'>\n",
      "RangeIndex: 560458 entries, 0 to 560457\n",
      "Data columns (total 5 columns):\n",
      " #   Column         Non-Null Count   Dtype         \n",
      "---  ------         --------------   -----         \n",
      " 0   item_id        560458 non-null  object        \n",
      " 1   description    560458 non-null  object        \n",
      " 2   delivery_days  560458 non-null  int32         \n",
      " 3   price          560458 non-null  float64       \n",
      " 4   timestamp      560458 non-null  datetime64[ns]\n",
      "dtypes: datetime64[ns](1), float64(1), int32(1), object(2)\n",
      "memory usage: 19.2+ MB\n"
     ]
    }
   ],
   "source": [
    "shipping_skilroad.info()"
   ]
  },
  {
   "cell_type": "code",
   "execution_count": 37,
   "metadata": {},
   "outputs": [
    {
     "data": {
      "text/html": [
       "<div>\n",
       "<style scoped>\n",
       "    .dataframe tbody tr th:only-of-type {\n",
       "        vertical-align: middle;\n",
       "    }\n",
       "\n",
       "    .dataframe tbody tr th {\n",
       "        vertical-align: top;\n",
       "    }\n",
       "\n",
       "    .dataframe thead th {\n",
       "        text-align: right;\n",
       "    }\n",
       "</style>\n",
       "<table border=\"1\" class=\"dataframe\">\n",
       "  <thead>\n",
       "    <tr style=\"text-align: right;\">\n",
       "      <th></th>\n",
       "      <th>item_id</th>\n",
       "      <th>description</th>\n",
       "      <th>delivery_days</th>\n",
       "      <th>price</th>\n",
       "      <th>timestamp</th>\n",
       "      <th>year</th>\n",
       "    </tr>\n",
       "  </thead>\n",
       "  <tbody>\n",
       "    <tr>\n",
       "      <th>0</th>\n",
       "      <td>jj-luna-privacy-ebooks</td>\n",
       "      <td>ebook link</td>\n",
       "      <td>1</td>\n",
       "      <td>0.000000</td>\n",
       "      <td>2014-02-23 05:39:22</td>\n",
       "      <td>2014</td>\n",
       "    </tr>\n",
       "    <tr>\n",
       "      <th>1</th>\n",
       "      <td>the-morality-of-capitalism</td>\n",
       "      <td>letter</td>\n",
       "      <td>4</td>\n",
       "      <td>0.001722</td>\n",
       "      <td>2014-02-23 05:39:29</td>\n",
       "      <td>2014</td>\n",
       "    </tr>\n",
       "    <tr>\n",
       "      <th>2</th>\n",
       "      <td>survive</td>\n",
       "      <td>small book (domestic)</td>\n",
       "      <td>4</td>\n",
       "      <td>0.017217</td>\n",
       "      <td>2014-02-23 05:39:33</td>\n",
       "      <td>2014</td>\n",
       "    </tr>\n",
       "    <tr>\n",
       "      <th>3</th>\n",
       "      <td>a-non-religious-new-testament</td>\n",
       "      <td>media mail parcel (domestic)</td>\n",
       "      <td>4</td>\n",
       "      <td>0.006870</td>\n",
       "      <td>2014-02-23 05:39:37</td>\n",
       "      <td>2014</td>\n",
       "    </tr>\n",
       "    <tr>\n",
       "      <th>4</th>\n",
       "      <td>mindless-slogans-101-cheap-substitutes-for-act...</td>\n",
       "      <td>ebook link</td>\n",
       "      <td>1</td>\n",
       "      <td>0.000000</td>\n",
       "      <td>2014-02-23 05:39:41</td>\n",
       "      <td>2014</td>\n",
       "    </tr>\n",
       "  </tbody>\n",
       "</table>\n",
       "</div>"
      ],
      "text/plain": [
       "                                             item_id  \\\n",
       "0                             jj-luna-privacy-ebooks   \n",
       "1                         the-morality-of-capitalism   \n",
       "2                                            survive   \n",
       "3                      a-non-religious-new-testament   \n",
       "4  mindless-slogans-101-cheap-substitutes-for-act...   \n",
       "\n",
       "                    description  delivery_days     price           timestamp  \\\n",
       "0                    ebook link              1  0.000000 2014-02-23 05:39:22   \n",
       "1                        letter              4  0.001722 2014-02-23 05:39:29   \n",
       "2         small book (domestic)              4  0.017217 2014-02-23 05:39:33   \n",
       "3  media mail parcel (domestic)              4  0.006870 2014-02-23 05:39:37   \n",
       "4                    ebook link              1  0.000000 2014-02-23 05:39:41   \n",
       "\n",
       "   year  \n",
       "0  2014  \n",
       "1  2014  \n",
       "2  2014  \n",
       "3  2014  \n",
       "4  2014  "
      ]
     },
     "execution_count": 37,
     "metadata": {},
     "output_type": "execute_result"
    }
   ],
   "source": [
    "shipping_skilroad['year'] = shipping_skilroad['timestamp'].dt.year\n",
    "shipping_skilroad.head()"
   ]
  },
  {
   "cell_type": "code",
   "execution_count": 38,
   "metadata": {},
   "outputs": [
    {
     "data": {
      "text/html": [
       "<div>\n",
       "<style scoped>\n",
       "    .dataframe tbody tr th:only-of-type {\n",
       "        vertical-align: middle;\n",
       "    }\n",
       "\n",
       "    .dataframe tbody tr th {\n",
       "        vertical-align: top;\n",
       "    }\n",
       "\n",
       "    .dataframe thead th {\n",
       "        text-align: right;\n",
       "    }\n",
       "</style>\n",
       "<table border=\"1\" class=\"dataframe\">\n",
       "  <thead>\n",
       "    <tr style=\"text-align: right;\">\n",
       "      <th></th>\n",
       "      <th>item_id</th>\n",
       "      <th>description</th>\n",
       "      <th>delivery_days</th>\n",
       "      <th>price</th>\n",
       "      <th>timestamp</th>\n",
       "      <th>year</th>\n",
       "      <th>day_num</th>\n",
       "    </tr>\n",
       "  </thead>\n",
       "  <tbody>\n",
       "    <tr>\n",
       "      <th>0</th>\n",
       "      <td>jj-luna-privacy-ebooks</td>\n",
       "      <td>ebook link</td>\n",
       "      <td>1</td>\n",
       "      <td>0.000000</td>\n",
       "      <td>2014-02-23 05:39:22</td>\n",
       "      <td>2014</td>\n",
       "      <td>23</td>\n",
       "    </tr>\n",
       "    <tr>\n",
       "      <th>1</th>\n",
       "      <td>the-morality-of-capitalism</td>\n",
       "      <td>letter</td>\n",
       "      <td>4</td>\n",
       "      <td>0.001722</td>\n",
       "      <td>2014-02-23 05:39:29</td>\n",
       "      <td>2014</td>\n",
       "      <td>23</td>\n",
       "    </tr>\n",
       "    <tr>\n",
       "      <th>2</th>\n",
       "      <td>survive</td>\n",
       "      <td>small book (domestic)</td>\n",
       "      <td>4</td>\n",
       "      <td>0.017217</td>\n",
       "      <td>2014-02-23 05:39:33</td>\n",
       "      <td>2014</td>\n",
       "      <td>23</td>\n",
       "    </tr>\n",
       "    <tr>\n",
       "      <th>3</th>\n",
       "      <td>a-non-religious-new-testament</td>\n",
       "      <td>media mail parcel (domestic)</td>\n",
       "      <td>4</td>\n",
       "      <td>0.006870</td>\n",
       "      <td>2014-02-23 05:39:37</td>\n",
       "      <td>2014</td>\n",
       "      <td>23</td>\n",
       "    </tr>\n",
       "    <tr>\n",
       "      <th>4</th>\n",
       "      <td>mindless-slogans-101-cheap-substitutes-for-act...</td>\n",
       "      <td>ebook link</td>\n",
       "      <td>1</td>\n",
       "      <td>0.000000</td>\n",
       "      <td>2014-02-23 05:39:41</td>\n",
       "      <td>2014</td>\n",
       "      <td>23</td>\n",
       "    </tr>\n",
       "  </tbody>\n",
       "</table>\n",
       "</div>"
      ],
      "text/plain": [
       "                                             item_id  \\\n",
       "0                             jj-luna-privacy-ebooks   \n",
       "1                         the-morality-of-capitalism   \n",
       "2                                            survive   \n",
       "3                      a-non-religious-new-testament   \n",
       "4  mindless-slogans-101-cheap-substitutes-for-act...   \n",
       "\n",
       "                    description  delivery_days     price           timestamp  \\\n",
       "0                    ebook link              1  0.000000 2014-02-23 05:39:22   \n",
       "1                        letter              4  0.001722 2014-02-23 05:39:29   \n",
       "2         small book (domestic)              4  0.017217 2014-02-23 05:39:33   \n",
       "3  media mail parcel (domestic)              4  0.006870 2014-02-23 05:39:37   \n",
       "4                    ebook link              1  0.000000 2014-02-23 05:39:41   \n",
       "\n",
       "   year  day_num  \n",
       "0  2014       23  \n",
       "1  2014       23  \n",
       "2  2014       23  \n",
       "3  2014       23  \n",
       "4  2014       23  "
      ]
     },
     "execution_count": 38,
     "metadata": {},
     "output_type": "execute_result"
    }
   ],
   "source": [
    "shipping_skilroad['day_num'] = shipping_skilroad['timestamp'].dt.day\n",
    "shipping_skilroad.head()"
   ]
  },
  {
   "cell_type": "code",
   "execution_count": 39,
   "metadata": {},
   "outputs": [
    {
     "data": {
      "text/html": [
       "<div>\n",
       "<style scoped>\n",
       "    .dataframe tbody tr th:only-of-type {\n",
       "        vertical-align: middle;\n",
       "    }\n",
       "\n",
       "    .dataframe tbody tr th {\n",
       "        vertical-align: top;\n",
       "    }\n",
       "\n",
       "    .dataframe thead th {\n",
       "        text-align: right;\n",
       "    }\n",
       "</style>\n",
       "<table border=\"1\" class=\"dataframe\">\n",
       "  <thead>\n",
       "    <tr style=\"text-align: right;\">\n",
       "      <th></th>\n",
       "      <th>item_id</th>\n",
       "      <th>description</th>\n",
       "      <th>delivery_days</th>\n",
       "      <th>price</th>\n",
       "      <th>timestamp</th>\n",
       "      <th>year</th>\n",
       "      <th>day_num</th>\n",
       "      <th>month_num</th>\n",
       "    </tr>\n",
       "  </thead>\n",
       "  <tbody>\n",
       "    <tr>\n",
       "      <th>0</th>\n",
       "      <td>jj-luna-privacy-ebooks</td>\n",
       "      <td>ebook link</td>\n",
       "      <td>1</td>\n",
       "      <td>0.000000</td>\n",
       "      <td>2014-02-23 05:39:22</td>\n",
       "      <td>2014</td>\n",
       "      <td>23</td>\n",
       "      <td>2</td>\n",
       "    </tr>\n",
       "    <tr>\n",
       "      <th>1</th>\n",
       "      <td>the-morality-of-capitalism</td>\n",
       "      <td>letter</td>\n",
       "      <td>4</td>\n",
       "      <td>0.001722</td>\n",
       "      <td>2014-02-23 05:39:29</td>\n",
       "      <td>2014</td>\n",
       "      <td>23</td>\n",
       "      <td>2</td>\n",
       "    </tr>\n",
       "    <tr>\n",
       "      <th>2</th>\n",
       "      <td>survive</td>\n",
       "      <td>small book (domestic)</td>\n",
       "      <td>4</td>\n",
       "      <td>0.017217</td>\n",
       "      <td>2014-02-23 05:39:33</td>\n",
       "      <td>2014</td>\n",
       "      <td>23</td>\n",
       "      <td>2</td>\n",
       "    </tr>\n",
       "    <tr>\n",
       "      <th>3</th>\n",
       "      <td>a-non-religious-new-testament</td>\n",
       "      <td>media mail parcel (domestic)</td>\n",
       "      <td>4</td>\n",
       "      <td>0.006870</td>\n",
       "      <td>2014-02-23 05:39:37</td>\n",
       "      <td>2014</td>\n",
       "      <td>23</td>\n",
       "      <td>2</td>\n",
       "    </tr>\n",
       "    <tr>\n",
       "      <th>4</th>\n",
       "      <td>mindless-slogans-101-cheap-substitutes-for-act...</td>\n",
       "      <td>ebook link</td>\n",
       "      <td>1</td>\n",
       "      <td>0.000000</td>\n",
       "      <td>2014-02-23 05:39:41</td>\n",
       "      <td>2014</td>\n",
       "      <td>23</td>\n",
       "      <td>2</td>\n",
       "    </tr>\n",
       "  </tbody>\n",
       "</table>\n",
       "</div>"
      ],
      "text/plain": [
       "                                             item_id  \\\n",
       "0                             jj-luna-privacy-ebooks   \n",
       "1                         the-morality-of-capitalism   \n",
       "2                                            survive   \n",
       "3                      a-non-religious-new-testament   \n",
       "4  mindless-slogans-101-cheap-substitutes-for-act...   \n",
       "\n",
       "                    description  delivery_days     price           timestamp  \\\n",
       "0                    ebook link              1  0.000000 2014-02-23 05:39:22   \n",
       "1                        letter              4  0.001722 2014-02-23 05:39:29   \n",
       "2         small book (domestic)              4  0.017217 2014-02-23 05:39:33   \n",
       "3  media mail parcel (domestic)              4  0.006870 2014-02-23 05:39:37   \n",
       "4                    ebook link              1  0.000000 2014-02-23 05:39:41   \n",
       "\n",
       "   year  day_num  month_num  \n",
       "0  2014       23          2  \n",
       "1  2014       23          2  \n",
       "2  2014       23          2  \n",
       "3  2014       23          2  \n",
       "4  2014       23          2  "
      ]
     },
     "execution_count": 39,
     "metadata": {},
     "output_type": "execute_result"
    }
   ],
   "source": [
    "shipping_skilroad['month_num'] = shipping_skilroad['timestamp'].dt.month\n",
    "shipping_skilroad.head()"
   ]
  },
  {
   "cell_type": "code",
   "execution_count": 49,
   "metadata": {},
   "outputs": [
    {
     "data": {
      "text/plain": [
       "2014    553798\n",
       "2015      6660\n",
       "Name: year, dtype: int64"
      ]
     },
     "execution_count": 49,
     "metadata": {},
     "output_type": "execute_result"
    }
   ],
   "source": [
    "shipping_skilroad['year'].value_counts()"
   ]
  },
  {
   "cell_type": "code",
   "execution_count": 48,
   "metadata": {},
   "outputs": [
    {
     "data": {
      "text/plain": [
       "Text(0.5, 1.0, 'Cantidad de shippings por año')"
      ]
     },
     "execution_count": 48,
     "metadata": {},
     "output_type": "execute_result"
    },
    {
     "data": {
      "image/png": "[encoded data removed]",
      "text/plain": [
       "<Figure size 1520x660 with 1 Axes>"
      ]
     },
     "metadata": {},
     "output_type": "display_data"
    }
   ],
   "source": [
    "sns.set(rc={\"figure.dpi\":100,'figure.figsize':(15.2,6.6)})\n",
    "ax = sns.countplot(data=shipping_skilroad,x='year',palette='Set2')\n",
    "ax.set_title('Cantidad de shippings por año')"
   ]
  },
  {
   "cell_type": "code",
   "execution_count": 52,
   "metadata": {},
   "outputs": [
    {
     "data": {
      "text/plain": [
       "Text(0.5, 1.0, 'Cantidad de shippings por mes')"
      ]
     },
     "execution_count": 52,
     "metadata": {},
     "output_type": "execute_result"
    },
    {
     "data": {
      "image/png": "[encoded data removed]",
      "text/plain": [
       "<Figure size 1520x660 with 1 Axes>"
      ]
     },
     "metadata": {},
     "output_type": "display_data"
    }
   ],
   "source": [
    "sns.set(rc={\"figure.dpi\":100,'figure.figsize':(15.2,6.6)})\n",
    "ax = sns.countplot(data=shipping_skilroad,x='month_num')\n",
    "ax.set_title('Cantidad de shippings por mes')"
   ]
  },
  {
   "cell_type": "code",
   "execution_count": null,
   "metadata": {},
   "outputs": [],
   "source": []
  }
 ],
 "metadata": {
  "kernelspec": {
   "display_name": "Python 3",
   "language": "python",
   "name": "python3"
  },
  "language_info": {
   "codemirror_mode": {
    "name": "ipython",
    "version": 3
   },
   "file_extension": ".py",
   "mimetype": "text/x-python",
   "name": "python",
   "nbconvert_exporter": "python",
   "pygments_lexer": "ipython3",
   "version": "3.8.3"
  }
 },
 "nbformat": 4,
 "nbformat_minor": 4
}
